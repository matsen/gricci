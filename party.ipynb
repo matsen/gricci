{
 "metadata": {
  "name": "",
  "signature": "sha256:6439a810e9d1161516cda1cbc812e7fcb245a496827c2d10e110d096abb028da"
 },
 "nbformat": 3,
 "nbformat_minor": 0,
 "worksheets": [
  {
   "cells": [
    {
     "cell_type": "code",
     "collapsed": false,
     "input": [
      "from sage.all import *\n",
      "load(\"all-hail-sage/nb-fun.py\")\n",
      "load(\"graphs.py\")\n",
      "load(\"code.py\")"
     ],
     "language": "python",
     "metadata": {},
     "outputs": []
    },
    {
     "cell_type": "code",
     "collapsed": false,
     "input": [
      "g=tetrahedron\n",
      "nb_show(plot(g))\n",
      "print ricci('lazy_unif', g, verbose=True)\n",
      "print ricci('unif_prior_mh', g, verbose=True)"
     ],
     "language": "python",
     "metadata": {},
     "outputs": []
    },
    {
     "cell_type": "code",
     "collapsed": false,
     "input": [
      "g=dodecahedron\n",
      "nb_show(plot(g))\n",
      "t_list = [10,11,12,18,16,11,15]\n",
      "print ricci('lazy_unif',g,0,15,True)\n",
      "print ricci('unif_prior_mh',g,0,15,True)\n",
      "print ricci_list('lazy_unif', g,[(0,t) for t in t_list])\n",
      "print ricci_list('unif_prior_mh', g,[(0,t) for t in t_list])"
     ],
     "language": "python",
     "metadata": {},
     "outputs": []
    },
    {
     "cell_type": "code",
     "collapsed": false,
     "input": [
      "g=icosahedron\n",
      "nb_show(plot(g))\n",
      "t_list = [1,2,3]\n",
      "print ricci('lazy_unif',g,0,1,True)\n",
      "print ricci('unif_prior_mh',g,0,1,True)\n",
      "print ricci_list('lazy_unif', g,[(0,t) for t in t_list])\n",
      "print ricci_list('unif_prior_mh', g,[(0,t) for t in t_list])"
     ],
     "language": "python",
     "metadata": {},
     "outputs": []
    },
    {
     "cell_type": "code",
     "collapsed": false,
     "input": [
      "g=octahedron\n",
      "nb_show(plot(g))\n",
      "t_list = [1,5]\n",
      "print ricci('unif_prior_mh',g,0,1,True)\n",
      "print ricci_list('lazy_unif', g,[(0,t) for t in t_list])\n",
      "print ricci_list('unif_prior_mh', g,[(0,t) for t in t_list])"
     ],
     "language": "python",
     "metadata": {},
     "outputs": []
    },
    {
     "cell_type": "code",
     "collapsed": false,
     "input": [
      "g=R4\n",
      "nb_show(plot(g))\n",
      "print ricci('lazy_unif',g,0,1,True)\n",
      "print ricci('unif_prior_mh',g,0,1,True)"
     ],
     "language": "python",
     "metadata": {},
     "outputs": []
    },
    {
     "cell_type": "code",
     "collapsed": false,
     "input": [
      "g=R6\n",
      "nb_show(plot(g))\n",
      "print ricci('lazy_unif',g,0,1,True)\n",
      "print ricci('unif_prior_mh',g,0,1,True)"
     ],
     "language": "python",
     "metadata": {},
     "outputs": []
    },
    {
     "cell_type": "code",
     "collapsed": false,
     "input": [
      "g=SnubSquare\n",
      "nb_show(plot(g))\n",
      "print ricci('lazy_unif',g,0,1,True)\n",
      "print ricci('unif_prior_mh',g,0,1,True)"
     ],
     "language": "python",
     "metadata": {},
     "outputs": []
    },
    {
     "cell_type": "code",
     "collapsed": false,
     "input": [
      "g=G56\n",
      "nb_show(plot(g))\n",
      "#print ricci('lazy_unif',g,0,1,True)\n",
      "print ricci('unif_prior_mh',g,0,1,True)"
     ],
     "language": "python",
     "metadata": {},
     "outputs": []
    },
    {
     "cell_type": "code",
     "collapsed": false,
     "input": [],
     "language": "python",
     "metadata": {},
     "outputs": []
    }
   ],
   "metadata": {}
  }
 ]
}
