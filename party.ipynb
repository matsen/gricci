{
 "metadata": {
  "name": "",
  "signature": "sha256:fb5ac90ff5b2a63058de6f156c1992333af51d30cdb6c8404e5e53f4b0f76ffe"
 },
 "nbformat": 3,
 "nbformat_minor": 0,
 "worksheets": [
  {
   "cells": [
    {
     "cell_type": "code",
     "collapsed": false,
     "input": [
      "from sage.all import *\n",
      "load(\"all-hail-sage/nb-fun.py\")\n",
      "load(\"graphs.py\")\n",
      "load(\"code.py\")"
     ],
     "language": "python",
     "metadata": {},
     "outputs": []
    },
    {
     "cell_type": "code",
     "collapsed": false,
     "input": [
      "g=tetrahedron\n",
      "nb_show(plot(g))\n",
      "print ricci('lazy_unif', g, verbose=True)\n",
      "print ricci('unif_prior_mh', g, verbose=True)"
     ],
     "language": "python",
     "metadata": {},
     "outputs": []
    },
    {
     "cell_type": "code",
     "collapsed": false,
     "input": [
      "g=dodecahedron\n",
      "nb_show(plot(g))\n",
      "t_list = [10,11,12,18,16,11,15]\n",
      "print ricci('unif_prior_mh',g,0,15,True)\n",
      "print ricci_list('lazy_unif', g,[(0,t) for t in t_list])\n",
      "print ricci_list('unif_prior_mh', g,[(0,t) for t in t_list])"
     ],
     "language": "python",
     "metadata": {},
     "outputs": []
    },
    {
     "cell_type": "code",
     "collapsed": false,
     "input": [
      "g=icosahedron\n",
      "nb_show(plot(g))\n",
      "t_list = [1,2,3]\n",
      "print ricci('unif_prior_mh',g,0,1,True)\n",
      "print ricci_list('lazy_unif', g,[(0,t) for t in t_list])\n",
      "print ricci_list('unif_prior_mh', g,[(0,t) for t in t_list])"
     ],
     "language": "python",
     "metadata": {},
     "outputs": []
    },
    {
     "cell_type": "code",
     "collapsed": false,
     "input": [
      "g=octahedron\n",
      "nb_show(plot(g))\n",
      "t_list = [1,5]\n",
      "print ricci('unif_prior_mh',g,0,1,True)\n",
      "print ricci_list('lazy_unif', g,[(0,t) for t in t_list])\n",
      "print ricci_list('unif_prior_mh', g,[(0,t) for t in t_list])"
     ],
     "language": "python",
     "metadata": {},
     "outputs": []
    },
    {
     "cell_type": "code",
     "collapsed": false,
     "input": [
      "g=R4\n",
      "nb_show(plot(g))\n",
      "print ricci('lazy_unif',g,0,1,True)\n",
      "print ricci('unif_prior_mh',g,0,1,True)"
     ],
     "language": "python",
     "metadata": {},
     "outputs": []
    },
    {
     "cell_type": "code",
     "collapsed": false,
     "input": [
      "g=R6\n",
      "nb_show(plot(g))\n",
      "print ricci('lazy_unif',g,0,1,True)\n",
      "print ricci('unif_prior_mh',g,0,1,True)"
     ],
     "language": "python",
     "metadata": {},
     "outputs": []
    },
    {
     "cell_type": "code",
     "collapsed": false,
     "input": [
      "g=SnubSquare\n",
      "nb_show(plot(g))\n",
      "print ricci('lazy_unif',g,0,1,True)\n",
      "print ricci('unif_prior_mh',g,0,1,True)"
     ],
     "language": "python",
     "metadata": {},
     "outputs": []
    }
   ],
   "metadata": {}
  }
 ]
}