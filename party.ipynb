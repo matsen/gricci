{
 "metadata": {
  "name": "",
  "signature": "sha256:b65f5ba1665e5c8063e8e407914fa63c5c09b021af560908562ca2363a73cfa2"
 },
 "nbformat": 3,
 "nbformat_minor": 0,
 "worksheets": [
  {
   "cells": [
    {
     "cell_type": "code",
     "collapsed": false,
     "input": [
      "from sage.all import *\n",
      "load(\"nb-fun.py\")\n",
      "load(\"graphs.py\")\n",
      "load(\"code.py\")"
     ],
     "language": "python",
     "metadata": {},
     "outputs": [],
     "prompt_number": 11
    },
    {
     "cell_type": "code",
     "collapsed": false,
     "input": [
      "ollivier(tetrahedron)"
     ],
     "language": "python",
     "metadata": {},
     "outputs": [
      {
       "output_type": "stream",
       "stream": "stdout",
       "text": [
        "[3/4, 1/12, 1/12, 1/12]\n",
        "[1/12, 3/4, 1/12, 1/12]\n"
       ]
      },
      {
       "metadata": {},
       "output_type": "pyout",
       "prompt_number": 12,
       "text": [
        "Result(coupling={(0, 1): 2/3, (2, 2): 1/12, (0, 0): 1/12, (3, 3): 1/12, (1, 1): 1/12}, W1=2/3, kappa=1/3, ric=4/3)"
       ]
      }
     ],
     "prompt_number": 12
    },
    {
     "cell_type": "code",
     "collapsed": false,
     "input": [],
     "language": "python",
     "metadata": {},
     "outputs": []
    }
   ],
   "metadata": {}
  }
 ]
}